{
  "cells": [
    {
      "cell_type": "markdown",
      "metadata": {
        "id": "view-in-github",
        "colab_type": "text"
      },
      "source": [
        "<a href=\"https://colab.research.google.com/github/Warapob/SuperAI_Hackathon-Image-Processing/blob/master/SuperAI_Hackathon012.ipynb\" target=\"_parent\"><img src=\"https://colab.research.google.com/assets/colab-badge.svg\" alt=\"Open In Colab\"/></a>"
      ]
    },
    {
      "cell_type": "markdown",
      "source": [
        "## Download Dataset"
      ],
      "metadata": {
        "id": "Xrm7L421Zquf"
      }
    },
    {
      "cell_type": "code",
      "execution_count": null,
      "metadata": {
        "id": "869Fdy1DHJVm"
      },
      "outputs": [],
      "source": [
        "!pip install -q kaggle"
      ]
    },
    {
      "cell_type": "code",
      "execution_count": null,
      "metadata": {
        "colab": {
          "base_uri": "https://localhost:8080/"
        },
        "id": "6BsZPTXvMDKp",
        "outputId": "0c60af75-54a3-4f7c-9166-e01c6ea0f900"
      },
      "outputs": [
        {
          "output_type": "stream",
          "name": "stdout",
          "text": [
            "ref                                                             title                                               size  lastUpdated          downloadCount  voteCount  usabilityRating  \n",
            "--------------------------------------------------------------  ------------------------------------------------  ------  -------------------  -------------  ---------  ---------------  \n",
            "akshaydattatraykhare/diabetes-dataset                           Diabetes Dataset                                     9KB  2022-10-06 08:55:25           7061        228  1.0              \n",
            "whenamancodes/covid-19-coronavirus-pandemic-dataset             COVID -19 Coronavirus Pandemic Dataset              11KB  2022-09-30 04:05:11           5663        184  1.0              \n",
            "akshaydattatraykhare/car-details-dataset                        Car Details Dataset                                 56KB  2022-10-21 06:11:56           1429         32  1.0              \n",
            "whenamancodes/students-performance-in-exams                     Students Performance in Exams                        9KB  2022-09-14 15:14:54          10211        186  1.0              \n",
            "abiodunonadeji/united-state-superstore-sales                    Superstore Sales                                  1002KB  2022-10-08 10:47:57           2118         36  0.7647059        \n",
            "thedevastator/udemy-courses-revenue-generation-and-course-anal  Udemy Courses                                      429KB  2022-10-17 00:11:53            985         38  1.0              \n",
            "vittoriogiatti/bigmacprice                                      Bigmac Prices                                       14KB  2022-10-19 21:11:14           1722         44  1.0              \n",
            "utkarshsaxenadn/vegetable-classifier-acc-9987                   Vegetable Classifier | ResNet50V2 | Acc : 99.87%    89MB  2022-10-21 01:29:02            470         29  1.0              \n",
            "thedevastator/fast-food-restaurants-in-the-united-states        Fast Food Restaurants in the United States           4MB  2022-10-08 17:30:38           1864         53  1.0              \n",
            "whenamancodes/alcohol-effects-on-study                          Alcohol Effects On Study                            18KB  2022-09-15 03:21:04           6082        112  1.0              \n",
            "whenamancodes/student-performance                               Student Performance                                104KB  2022-10-07 05:14:47           6196        140  1.0              \n",
            "narayan63/netflix-popular-movies-dataset                        Netflix popular movies dataset                       1MB  2022-09-24 08:23:22           4353         67  0.9411765        \n",
            "whenamancodes/airbnb-inc-stock-market-analysis                  Airbnb, Inc. Stock Market Analysis                  10KB  2022-10-02 05:44:12            844         38  1.0              \n",
            "eliasturk/world-happiness-based-on-cpi-20152020                 Happiness and Corruption 2015-2020                  29KB  2022-10-11 22:35:03           1253         35  1.0              \n",
            "dansbecker/melbourne-housing-snapshot                           Melbourne Housing Snapshot                         451KB  2018-06-05 12:52:24          98619       1161  0.7058824        \n",
            "arslanali4343/covid19-data-from-world                           COVID-19 data from World                            11MB  2022-10-02 05:56:12           1725         95  0.9411765        \n",
            "whenamancodes/flight-delay-prediction                           Flight Delay Prediction                             31MB  2022-10-07 05:26:20           1911         41  0.88235295       \n",
            "thedevastator/popularity-of-spotify-top-tracks-by-genre         Popularity of Spotify Top Tracks by Genre            9MB  2022-10-18 17:55:53            766         30  0.7647059        \n",
            "anushabellam/cars-cars-2                                        Cars_India_dataset                                   4KB  2022-10-12 06:34:20           1057         33  1.0              \n",
            "thedevastator/disney-character-success-a-comprehensive-analysi  Disney Character Success                            39KB  2022-10-08 17:07:22           1163         37  1.0              \n",
            "Downloading hackathon-online-2022-image-processing.zip to /content\n",
            " 96% 397M/415M [00:05<00:00, 80.1MB/s]\n",
            "100% 415M/415M [00:05<00:00, 85.6MB/s]\n"
          ]
        }
      ],
      "source": [
        "!mkdir ~/.kaggle\n",
        "!cp /content/drive/MyDrive/Colab_Notebooks/KaggleAPI/kaggle.json ~/.kaggle/ #copy api key ---- depend on your directory -- my directory is .../colab/..\n",
        "!chmod 600 ~/.kaggle/kaggle.json\n",
        "!kaggle datasets list\n",
        "!kaggle competitions download -c hackathon-online-2022-image-processing #download competition dataset\n",
        "!unzip /content/hackathon-online-2022-image-processing.zip\n",
        "!mkdir /content/zipfile\n",
        "!unzip /content/IM_Test.zipfile -d /content/zipfile\n",
        "!unzip /content/IM_Train.zipfile -d /content/zipfile\n",
        "!mkdir /content/dataset/\n",
        "!unzip /content/zipfile/IM_Train.zipfile -d /content/dataset\n",
        "!unzip /content/zipfile/IM_Test.zipfile -d /content/dataset/test\n",
        "!rm -r /content/zipfile"
      ]
    },
    {
      "cell_type": "markdown",
      "source": [
        "## **Import and Preprocess Dataset**\n",
        "Do an image augmentation."
      ],
      "metadata": {
        "id": "807zRRYJZxfZ"
      }
    },
    {
      "cell_type": "code",
      "execution_count": null,
      "metadata": {
        "id": "Ox9B7_zvMzch"
      },
      "outputs": [],
      "source": [
        "import os\n",
        "import numpy as np\n",
        "import tensorflow as tf\n",
        "import matplotlib.pyplot as plt"
      ]
    },
    {
      "cell_type": "code",
      "execution_count": null,
      "metadata": {
        "colab": {
          "base_uri": "https://localhost:8080/"
        },
        "id": "xkeY0aWy0kKG",
        "outputId": "7a06b97e-0954-426b-ab90-5bb38a8fa915"
      },
      "outputs": [
        {
          "output_type": "stream",
          "name": "stdout",
          "text": [
            "Found 58609 images belonging to 10 classes.\n",
            "Found 14648 images belonging to 10 classes.\n"
          ]
        }
      ],
      "source": [
        "from tensorflow.keras.preprocessing.image import ImageDataGenerator\n",
        "\n",
        "train_dir = '/content/dataset/train'\n",
        "w ,h = 150,150\n",
        "\n",
        "train_datagen = ImageDataGenerator(\n",
        "      rescale=1./255,\n",
        "      rotation_range=40,\n",
        "      width_shift_range=0.2,\n",
        "      height_shift_range=0.2,\n",
        "      shear_range=0.2,\n",
        "      zoom_range=0.2,\n",
        "      # horizontal_flip=True,\n",
        "      fill_mode='nearest',\n",
        "      validation_split=0.2)\n",
        "\n",
        "# Flow training images in batches of 20 using train_datagen generator\n",
        "train_generator = train_datagen.flow_from_directory(\n",
        "        train_dir,  # This is the source directory for training images\n",
        "        target_size=(w, h),  # All images will be resized to 150x150\n",
        "        batch_size=64,\n",
        "        # Since we use binary_crossentropy loss, we need binary labels\n",
        "        class_mode='categorical',\n",
        "        subset='training')\n",
        "\n",
        "# Flow validation images in batches of 20 using test_datagen generator\n",
        "validation_generator = train_datagen.flow_from_directory(\n",
        "        train_dir,\n",
        "        target_size=(w, h),\n",
        "        batch_size=64,\n",
        "        class_mode='categorical',\n",
        "        subset='validation')"
      ]
    },
    {
      "cell_type": "markdown",
      "source": [
        "Random an image from ImageGenerator"
      ],
      "metadata": {
        "id": "4xdpctIUaEzT"
      }
    },
    {
      "cell_type": "code",
      "execution_count": null,
      "metadata": {
        "colab": {
          "base_uri": "https://localhost:8080/",
          "height": 287
        },
        "id": "Q8LJU_okUOsH",
        "outputId": "0b47f78c-bc66-4517-c334-4146839f5ce4"
      },
      "outputs": [
        {
          "output_type": "execute_result",
          "data": {
            "text/plain": [
              "1"
            ]
          },
          "metadata": {},
          "execution_count": 10
        },
        {
          "output_type": "display_data",
          "data": {
            "text/plain": [
              "<Figure size 432x288 with 1 Axes>"
            ],
            "image/png": "[encoded data removed]"
          },
          "metadata": {
            "needs_background": "light"
          }
        }
      ],
      "source": [
        "randint = np.random.randint(0,len(train_generator[0][0]))\n",
        "plt.imshow(np.array(train_generator[0][0][randint]))\n",
        "train_generator[0][1][randint].argmax()"
      ]
    },
    {
      "cell_type": "markdown",
      "source": [
        "## **Prepare Model**"
      ],
      "metadata": {
        "id": "pPQvIpIraKpX"
      }
    },
    {
      "cell_type": "code",
      "execution_count": null,
      "metadata": {
        "colab": {
          "base_uri": "https://localhost:8080/"
        },
        "id": "zmBRZWC1S2vM",
        "outputId": "67233180-dfc9-4b10-a80a-93a58e0c798f"
      },
      "outputs": [
        {
          "output_type": "stream",
          "name": "stdout",
          "text": [
            "Model: \"sequential\"\n",
            "_________________________________________________________________\n",
            " Layer (type)                Output Shape              Param #   \n",
            "=================================================================\n",
            " conv2d (Conv2D)             (None, 148, 148, 32)      896       \n",
            "                                                                 \n",
            " max_pooling2d (MaxPooling2D  (None, 74, 74, 32)       0         \n",
            " )                                                               \n",
            "                                                                 \n",
            " conv2d_1 (Conv2D)           (None, 72, 72, 64)        18496     \n",
            "                                                                 \n",
            " max_pooling2d_1 (MaxPooling  (None, 36, 36, 64)       0         \n",
            " 2D)                                                             \n",
            "                                                                 \n",
            " conv2d_2 (Conv2D)           (None, 34, 34, 128)       73856     \n",
            "                                                                 \n",
            " max_pooling2d_2 (MaxPooling  (None, 17, 17, 128)      0         \n",
            " 2D)                                                             \n",
            "                                                                 \n",
            " conv2d_3 (Conv2D)           (None, 15, 15, 128)       147584    \n",
            "                                                                 \n",
            " max_pooling2d_3 (MaxPooling  (None, 7, 7, 128)        0         \n",
            " 2D)                                                             \n",
            "                                                                 \n",
            " flatten (Flatten)           (None, 6272)              0         \n",
            "                                                                 \n",
            " dense (Dense)               (None, 512)               3211776   \n",
            "                                                                 \n",
            " dense_1 (Dense)             (None, 10)                5130      \n",
            "                                                                 \n",
            "=================================================================\n",
            "Total params: 3,457,738\n",
            "Trainable params: 3,457,738\n",
            "Non-trainable params: 0\n",
            "_________________________________________________________________\n"
          ]
        }
      ],
      "source": [
        "from tensorflow.keras.optimizers import RMSprop\n",
        "model = tf.keras.models.Sequential([\n",
        "      tf.keras.layers.Conv2D(32, (3,3), activation='relu', input_shape=(150, 150, 3)),\n",
        "      tf.keras.layers.MaxPooling2D(2, 2),\n",
        "      tf.keras.layers.Conv2D(64, (3,3), activation='relu'),\n",
        "      tf.keras.layers.MaxPooling2D(2,2),\n",
        "      tf.keras.layers.Conv2D(128, (3,3), activation='relu'),\n",
        "      tf.keras.layers.MaxPooling2D(2,2),\n",
        "      tf.keras.layers.Conv2D(128, (3,3), activation='relu'),\n",
        "      tf.keras.layers.MaxPooling2D(2,2),\n",
        "      tf.keras.layers.Flatten(),\n",
        "      tf.keras.layers.Dense(512, activation='relu'),\n",
        "      tf.keras.layers.Dense(10, activation='softmax')\n",
        "  ])\n",
        "\n",
        "model.compile(loss='categorical_crossentropy',\n",
        "            optimizer=RMSprop(learning_rate=1e-4),\n",
        "            metrics=['accuracy'])\n",
        "model.summary()"
      ]
    },
    {
      "cell_type": "code",
      "execution_count": null,
      "metadata": {
        "colab": {
          "base_uri": "https://localhost:8080/"
        },
        "id": "NEFIm3XqUIoz",
        "outputId": "de85fc39-0b2a-4e77-eaa4-517ccd8ce230"
      },
      "outputs": [
        {
          "output_type": "stream",
          "name": "stdout",
          "text": [
            "Epoch 1/350\n",
            "256/256 [==============================] - 105s 369ms/step - loss: 2.2402 - accuracy: 0.1915 - val_loss: 2.2269 - val_accuracy: 0.1866\n",
            "Epoch 2/350\n",
            "256/256 [==============================] - 94s 366ms/step - loss: 2.1436 - accuracy: 0.2480 - val_loss: 2.1001 - val_accuracy: 0.2628\n",
            "Epoch 3/350\n",
            "256/256 [==============================] - 92s 361ms/step - loss: 2.0179 - accuracy: 0.3052 - val_loss: 1.9799 - val_accuracy: 0.3113\n",
            "Epoch 4/350\n",
            "208/256 [=======================>......] - ETA: 14s - loss: 1.9170 - accuracy: 0.3465"
          ]
        }
      ],
      "source": [
        "history = model.fit(\n",
        "            train_generator,\n",
        "            validation_data = validation_generator,\n",
        "            steps_per_epoch = 256,\n",
        "            epochs = 350,\n",
        "            validation_steps = 50,\n",
        "            verbose = 1)\n",
        "\n",
        "model.save('/content/drive/MyDrive/saved_model/03model')\n",
        "model.save('/content/drive/MyDrive/saved_model/03model/03model.h5')"
      ]
    },
    {
      "cell_type": "code",
      "execution_count": null,
      "metadata": {
        "id": "B58tS-L7Wgfh"
      },
      "outputs": [],
      "source": [
        "def plot_loss_acc(history):\n",
        "  '''Plots the training and validation loss and accuracy from a history object'''\n",
        "  acc = history.history['accuracy']\n",
        "  val_acc = history.history['val_accuracy']\n",
        "  loss = history.history['loss']\n",
        "  val_loss = history.history['val_loss']\n",
        "\n",
        "  epochs = range(len(acc))\n",
        "\n",
        "  plt.plot(epochs, acc, 'b', label='Training accuracy')\n",
        "  plt.plot(epochs, val_acc, 'r', label='Validation accuracy')\n",
        "  plt.title('Training and validation accuracy')\n",
        "\n",
        "  plt.figure()\n",
        "\n",
        "  plt.plot(epochs, loss, 'b', label='Training Loss')\n",
        "  plt.plot(epochs, val_loss, 'r', label='Validation Loss')\n",
        "  plt.title('Training and validation loss')\n",
        "  plt.legend()\n",
        "\n",
        "  plt.show()"
      ]
    },
    {
      "cell_type": "code",
      "execution_count": null,
      "metadata": {
        "id": "fm7ENuc8Wi1q"
      },
      "outputs": [],
      "source": [
        "plot_loss_acc(history)"
      ]
    },
    {
      "cell_type": "code",
      "execution_count": null,
      "metadata": {
        "id": "ulffJkOAivGs"
      },
      "outputs": [],
      "source": [
        "from PIL import Image\n",
        "\n",
        "def jsonCustomFormatter(data):\n",
        "    filename= []\n",
        "    for name in range(len(data)):\n",
        "        for bbox in range(len(data[name]['bboxes'])):\n",
        "            _name = data[name]['filename'].split('.')[0]+ \"_\" + str(data[name]['bboxes'][bbox]['bbox_id'])\n",
        "            filename.append(_name)\n",
        "\n",
        "    bboxes= []\n",
        "    # (left, top, right, bottom)\n",
        "    for name in range(len(data)):\n",
        "        for bbox in range(len(data[name]['bboxes'])):\n",
        "            _coor = []\n",
        "            _coor.append(data[name]['bboxes'][bbox]['x1'])\n",
        "            _coor.append(data[name]['bboxes'][bbox]['y1'])\n",
        "            _coor.append(data[name]['bboxes'][bbox]['x2'])\n",
        "            _coor.append(data[name]['bboxes'][bbox]['y2'])\n",
        "            bboxes.append(_coor)\n",
        "\n",
        "    return filename,bboxes\n",
        "\n",
        "\n",
        "def normImg(imgArray):\n",
        "  imgArray = imgArray / 255.\n",
        "  return imgArray\n",
        "\n",
        "\n",
        "def loadTestData(path,test_filename,bboxes,w=300,h=300,):\n",
        "\n",
        "    test_img = []\n",
        "\n",
        "    for ele in range(len(test_filename)):\n",
        "      img = Image.open(os.path.join(path,str(test_filename[ele].split('_')[0]))+\".png\")\n",
        "      img = img.crop(bboxes[ele])\n",
        "      img = img.resize((w,h))\n",
        "      img = np.array(img)\n",
        "      img = normImg(img)\n",
        "      test_img.append(img)\n",
        "\n",
        "    return test_img"
      ]
    },
    {
      "cell_type": "code",
      "execution_count": null,
      "metadata": {
        "id": "vNTHtESyiwtC"
      },
      "outputs": [],
      "source": [
        "import json\n",
        "json_path = '/content/dataset/test/IM_Test/IM_Test.json'\n",
        "# Opening JSON file\n",
        "f = open(json_path)\n",
        "with open(json_path, 'r', encoding='utf-8') as f:\n",
        "    data = json.load(f)"
      ]
    },
    {
      "cell_type": "code",
      "execution_count": null,
      "metadata": {
        "id": "RFuyTtW_i8BX"
      },
      "outputs": [],
      "source": [
        "filename,bboxes = jsonCustomFormatter(data=data)\n",
        "len(filename),len(bboxes)"
      ]
    },
    {
      "cell_type": "code",
      "execution_count": null,
      "metadata": {
        "id": "rffExrxikc5Q"
      },
      "outputs": [],
      "source": [
        "test_path = '/content/dataset/test/IM_Test/IM_Test'\n",
        "test_img = loadTestData(test_path,filename,bboxes ,w=w,h=h)\n",
        "test_img = np.array(test_img)"
      ]
    },
    {
      "cell_type": "code",
      "execution_count": null,
      "metadata": {
        "id": "sXckAEh3PxKN"
      },
      "outputs": [],
      "source": [
        "pred = model.predict(test_img)"
      ]
    },
    {
      "cell_type": "code",
      "execution_count": null,
      "metadata": {
        "id": "DjFhXqPpQ_yJ"
      },
      "outputs": [],
      "source": [
        "pred_res = [x.argmax() for x in pred]"
      ]
    },
    {
      "cell_type": "code",
      "execution_count": null,
      "metadata": {
        "id": "N4JmaDpvRBnG"
      },
      "outputs": [],
      "source": [
        "import pandas as pd\n",
        "df = pd.read_csv('/content/drive/MyDrive/Submit/IM_Submit.csv')\n",
        "df['class'] = pred_res"
      ]
    },
    {
      "cell_type": "code",
      "execution_count": null,
      "metadata": {
        "id": "QERhbRF53Xgl"
      },
      "outputs": [],
      "source": [
        "df.to_csv('/content/drive/MyDrive/Submit/IM_Submit03.csv',index=False)"
      ]
    },
    {
      "cell_type": "code",
      "execution_count": null,
      "metadata": {
        "id": "9tBb0NM81vM6"
      },
      "outputs": [],
      "source": [
        "# !kaggle competitions submit -c hackathon-online-2022-image-processing -f /content/drive/MyDrive/Submit/IM_Submit03.csv -m \"version2\""
      ]
    }
  ],
  "metadata": {
    "accelerator": "GPU",
    "colab": {
      "collapsed_sections": [],
      "machine_shape": "hm",
      "provenance": [],
      "toc_visible": true,
      "authorship_tag": "ABX9TyNcvTRXp2+0jhUOJuSWuEyc",
      "include_colab_link": true
    },
    "gpuClass": "premium",
    "kernelspec": {
      "display_name": "Python 3",
      "name": "python3"
    },
    "language_info": {
      "name": "python"
    }
  },
  "nbformat": 4,
  "nbformat_minor": 0
}